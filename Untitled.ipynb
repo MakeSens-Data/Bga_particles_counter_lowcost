{
 "cells": [
  {
   "cell_type": "code",
   "execution_count": 1,
   "metadata": {},
   "outputs": [],
   "source": [
    "import pandas as pd\n",
    "import numpy as np"
   ]
  },
  {
   "cell_type": "code",
   "execution_count": 2,
   "metadata": {},
   "outputs": [],
   "source": [
    "data = pd.read_excel('data/prueba.xlsx',header=0)"
   ]
  },
  {
   "cell_type": "code",
   "execution_count": 3,
   "metadata": {},
   "outputs": [],
   "source": [
    "data.index = data['Date & Time (Local)']"
   ]
  },
  {
   "source": [
    "data = data.drop(columns= ['Date & Time (Local)', 'Date & Time (Local).1', ' Date & Time (UTC)'], axis = 0)"
   ],
   "cell_type": "code",
   "metadata": {},
   "execution_count": 4,
   "outputs": []
  },
  {
   "cell_type": "code",
   "execution_count": 5,
   "metadata": {},
   "outputs": [],
   "source": [
    "data=  data.resample('60T').mean()"
   ]
  },
  {
   "cell_type": "code",
   "execution_count": 6,
   "metadata": {},
   "outputs": [],
   "source": [
    "data['Date & Time (Local)'] = data.index\n",
    "data['Date & Time (UTC)'] = data.index + pd.Timedelta(hours = 5)"
   ]
  },
  {
   "cell_type": "code",
   "execution_count": 9,
   "metadata": {},
   "outputs": [],
   "source": [
    "data  = data.reindex(columns=['Date & Time (Local)', 'Date & Time (UTC)','PM10 Conc', 'PM2.5 Conc', 'PM10-2.5 Conc',\n",
    "       'Sample Temp', 'Ambient Temp', 'Valve PWM', 'Pump PWM',\n",
    "       'P3 (Calculated)', 'SL Value', 'Ambient Pressure', 'Sample RH',\n",
    "       'Box Temp', 'LED Temp', 'Bypass Flow', 'Sample Flow'] )"
   ]
  },
  {
   "cell_type": "code",
   "execution_count": 12,
   "metadata": {},
   "outputs": [],
   "source": [
    "data = data.reset_index(drop=True)"
   ]
  },
  {
   "cell_type": "code",
   "execution_count": 13,
   "metadata": {},
   "outputs": [],
   "source": [
    "data.to_excel('NormalHorarios.xlsx')"
   ]
  },
  {
   "cell_type": "code",
   "execution_count": null,
   "metadata": {},
   "outputs": [],
   "source": []
  }
 ],
 "metadata": {
  "kernelspec": {
   "display_name": "Python 3",
   "language": "python",
   "name": "python3"
  },
  "language_info": {
   "codemirror_mode": {
    "name": "ipython",
    "version": 3
   },
   "file_extension": ".py",
   "mimetype": "text/x-python",
   "name": "python",
   "nbconvert_exporter": "python",
   "pygments_lexer": "ipython3",
   "version": "3.8.3-final"
  }
 },
 "nbformat": 4,
 "nbformat_minor": 4
}